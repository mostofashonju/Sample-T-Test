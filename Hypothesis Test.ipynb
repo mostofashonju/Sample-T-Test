{
 "cells": [
  {
   "cell_type": "markdown",
   "id": "a1776103",
   "metadata": {},
   "source": [
    "# A one-sample t-test checks whether a sample mean differs from the population mean. Let's \n",
    "create some dummy age data for the population of voters in the entire country and a sample of voters \n",
    "in Minnesota and test the whether the average age of voters Minnesota differs from the population:"
   ]
  },
  {
   "cell_type": "code",
   "execution_count": 13,
   "id": "6bb42a15",
   "metadata": {},
   "outputs": [],
   "source": [
    "%matplotlib inline\n",
    "\n",
    "import numpy as np\n",
    "import pandas as pd\n",
    "import scipy.stats as stats\n",
    "import matplotlib.pyplot as plt\n",
    "import math"
   ]
  },
  {
   "cell_type": "code",
   "execution_count": 9,
   "id": "f1414ec7",
   "metadata": {
    "scrolled": true
   },
   "outputs": [
    {
     "name": "stdout",
     "output_type": "stream",
     "text": [
      "43.000112\n",
      "39.26\n"
     ]
    }
   ],
   "source": [
    "np.random.seed(6)\n",
    "\n",
    "population_ages1 = stats.poisson.rvs(loc=18, mu=35, size=150000)\n",
    "population_ages2 = stats.poisson.rvs(loc=18, mu=10, size=100000)\n",
    "population_ages = np.concatenate((population_ages1, population_ages2))\n",
    "\n",
    "minnesota_ages1 = stats.poisson.rvs(loc=18, mu=30, size=30)\n",
    "minnesota_ages2 = stats.poisson.rvs(loc=18, mu=10, size=20)\n",
    "minnesota_ages = np.concatenate((minnesota_ages1, minnesota_ages2))\n",
    "\n",
    "print( population_ages.mean() )\n",
    "print( minnesota_ages.mean() )"
   ]
  },
  {
   "cell_type": "markdown",
   "id": "886fa699",
   "metadata": {},
   "source": [
    "# Notice that we used a slightly different combination of distributions to generate the sample data for Minnesota, \n",
    "so we know that the two means are different. Let's conduct a t-test at a 95% confidence level and see if it correctly \n",
    "rejects the null hypothesis that the sample comes from the same distribution as the population. To conduct a one sample \n",
    "t-test, we can the stats.ttest_1samp() function:"
   ]
  },
  {
   "cell_type": "code",
   "execution_count": 5,
   "id": "498bea2d",
   "metadata": {},
   "outputs": [
    {
     "data": {
      "text/plain": [
       "Ttest_1sampResult(statistic=-2.5742714883655027, pvalue=0.013118685425061678)"
      ]
     },
     "execution_count": 5,
     "metadata": {},
     "output_type": "execute_result"
    }
   ],
   "source": [
    "stats.ttest_1samp(a = minnesota_ages,               # Sample data\n",
    "                 popmean = population_ages.mean())  # Pop mean"
   ]
  },
  {
   "cell_type": "code",
   "execution_count": 6,
   "id": "f27c8d8c",
   "metadata": {},
   "outputs": [
    {
     "data": {
      "text/plain": [
       "-2.0095752344892093"
      ]
     },
     "execution_count": 6,
     "metadata": {},
     "output_type": "execute_result"
    }
   ],
   "source": [
    "stats.t.ppf(q=0.025,  # Quantile to check (Top tail 2.5% and bottom tail 2.5%) 5% level of significance\n",
    "            df=49)  # Degrees of freedom   [df = N-1]"
   ]
  },
  {
   "cell_type": "code",
   "execution_count": 7,
   "id": "1b511323",
   "metadata": {},
   "outputs": [
    {
     "data": {
      "text/plain": [
       "2.009575234489209"
      ]
     },
     "execution_count": 7,
     "metadata": {},
     "output_type": "execute_result"
    }
   ],
   "source": [
    "stats.t.ppf(q=0.975,  # Quantile to check\n",
    "            df=49)  # Degrees of freedom [df = N-1]"
   ]
  },
  {
   "cell_type": "code",
   "execution_count": null,
   "id": "fbe7e016",
   "metadata": {},
   "outputs": [],
   "source": [
    "#if we that calculated value statistic=-2.57 is less than -2.0095 so we reject the null hypothesis\n",
    "\n",
    "#check p-value\n",
    "#if p-value is less than 0.05,null hypothesis rejected....\n",
    "\n",
    "#We can calculate the chances of seeing a result as extreme as the one we observed (known as the p-value) by passing the \n",
    "#t-statistic in as the quantile to the stats.t.cdf() function:"
   ]
  },
  {
   "cell_type": "code",
   "execution_count": 8,
   "id": "2cc93212",
   "metadata": {},
   "outputs": [
    {
     "data": {
      "text/plain": [
       "0.013121066545690117"
      ]
     },
     "execution_count": 8,
     "metadata": {},
     "output_type": "execute_result"
    }
   ],
   "source": [
    "stats.t.cdf(x= -2.5742,      # T-test statistic\n",
    "               df= 49) * 2   # Multiply by two for two tailed test *"
   ]
  },
  {
   "cell_type": "markdown",
   "id": "a8d612ae",
   "metadata": {},
   "source": [
    "# Note: The alternative hypothesis we are checking is whether the sample mean differs (is not equal to) the population mean. \n",
    "Since the sample could differ in either the positive or negative direction we multiply the by two.\n",
    "Notice this value is the same as the p-value listed in the original t-test output. A p-value of 0.01311 means we'd expect to see data as extreme as our sample due to chance about 1.3% of the time if the null hypothesis was true. In this case, the p-value is lower than our significance level α (equal to 1-conf.level or 0.05) so we should reject the null hypothesis. If we were to construct a 95% confidence interval for the sample it would not capture population mean of 43:"
   ]
  },
  {
   "cell_type": "code",
   "execution_count": 10,
   "id": "708e9bd8",
   "metadata": {},
   "outputs": [
    {
     "data": {
      "text/plain": [
       "(36.369669080722176, 42.15033091927782)"
      ]
     },
     "execution_count": 10,
     "metadata": {},
     "output_type": "execute_result"
    }
   ],
   "source": [
    "sigma = minnesota_ages.std()/math.sqrt(50)  # Sample stdev/sample size\n",
    "\n",
    "stats.t.interval(0.95,                        # Confidence level\n",
    "                 df = 49,                     # Degrees of freedom\n",
    "                 loc = minnesota_ages.mean(), # Sample mean\n",
    "                 scale= sigma)                # Standard dev estimate       #check with 95% confidence intervals"
   ]
  },
  {
   "cell_type": "markdown",
   "id": "25c9fe62",
   "metadata": {},
   "source": [
    "# On the other hand, since there is a 1.3% chance of seeing a result this extreme due to chance, it is not significant at the \n",
    "99% confidence level. This means if we were to construct a 99% confidence interval, it would capture the population mean:"
   ]
  },
  {
   "cell_type": "code",
   "execution_count": 11,
   "id": "97afc64b",
   "metadata": {},
   "outputs": [
    {
     "data": {
      "text/plain": [
       "(35.40547994092107, 43.11452005907893)"
      ]
     },
     "execution_count": 11,
     "metadata": {},
     "output_type": "execute_result"
    }
   ],
   "source": [
    "stats.t.interval(alpha = 0.99,                # Confidence level\n",
    "                 df = 49,                     # Degrees of freedom\n",
    "                 loc = minnesota_ages.mean(), # Sample mean\n",
    "                 scale= sigma)                # Standard dev estimate       #check with 99% confidence intervals"
   ]
  },
  {
   "cell_type": "markdown",
   "id": "11abe479",
   "metadata": {},
   "source": [
    "# With a higher confidence level, we construct a wider confidence interval and increase the chances that it captures to true mean\n",
    ",thus making it less likely that we'll reject the null hypothesis. In this case, the p-value of 0.013 is greater than our \n",
    "significance level of 0.01 and we fail to reject the null hypothesis."
   ]
  }
 ],
 "metadata": {
  "kernelspec": {
   "display_name": "Python 3 (ipykernel)",
   "language": "python",
   "name": "python3"
  },
  "language_info": {
   "codemirror_mode": {
    "name": "ipython",
    "version": 3
   },
   "file_extension": ".py",
   "mimetype": "text/x-python",
   "name": "python",
   "nbconvert_exporter": "python",
   "pygments_lexer": "ipython3",
   "version": "3.10.4"
  }
 },
 "nbformat": 4,
 "nbformat_minor": 5
}
